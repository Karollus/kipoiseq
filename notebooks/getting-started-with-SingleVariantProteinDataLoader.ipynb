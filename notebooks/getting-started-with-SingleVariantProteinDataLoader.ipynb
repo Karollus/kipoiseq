{
 "cells": [
  {
   "cell_type": "code",
   "execution_count": null,
   "metadata": {},
   "outputs": [],
   "source": [
    "\"\"\"\n",
    "SingleVariantProteinDataLoader takes 3 arguments:\n",
    "1) gtf_file(information about gene structure)\n",
    "2) fasta_file(nucleotide sequence of the genome)\n",
    "3) vcf_file(mutations in the genome)\n",
    "SingleVariantProteinDataLoader maps the variants on the transcript_ids provided\n",
    "in the gtf_file and returns a dictionary for each variant mapped to transcript_id.\n",
    "The output has the following structure:\n",
    "    - input:\n",
    "        - ref_seq: string (reference sequence)\n",
    "        - alt_seq: string (alternative sequence)\n",
    "    - metada: dictionary\n",
    "\"\"\""
   ]
  },
  {
   "cell_type": "code",
   "execution_count": 1,
   "metadata": {},
   "outputs": [],
   "source": [
    "from kipoiseq.dataloaders.extractor import SingleVariantProteinDataLoader"
   ]
  },
  {
   "cell_type": "code",
   "execution_count": 2,
   "metadata": {},
   "outputs": [],
   "source": [
    "# test files\n",
    "gtf_file = '../tests/data/sample_1_protein.gtf'\n",
    "fasta_file = '../tests/data/demo_dna_seq.fa'\n",
    "vcf_file = '../tests/data/singleVar_vcf_enst_test2.vcf.gz'"
   ]
  },
  {
   "cell_type": "code",
   "execution_count": 3,
   "metadata": {},
   "outputs": [
    {
     "name": "stdout",
     "output_type": "stream",
     "text": [
      "Transcript support level not in gtf.Skipping the associated filters.\n",
      "Transcript support level not in gtf.Skipping the associated filters.\n"
     ]
    }
   ],
   "source": [
    "# initialize\n",
    "svd = SingleVariantProteinDataLoader(gtf_file, fasta_file, vcf_file)"
   ]
  },
  {
   "cell_type": "code",
   "execution_count": 4,
   "metadata": {},
   "outputs": [],
   "source": [
    "# get for first transcript_id with variants dictionary - ref_seq, alt_seq, metadata\n",
    "data = next(svd)"
   ]
  },
  {
   "cell_type": "code",
   "execution_count": 5,
   "metadata": {},
   "outputs": [
    {
     "name": "stdout",
     "output_type": "stream",
     "text": [
      "MTSCGQQSLNVLAVLFSLLFSAVLSAHFRVCEPYTDHKGRYHFGFHCPRLSDNKTFILCCHHNNTVFKYCCNETEFQAVMQANLTASSEGYMHNNYTALLGVWIYGFFVLMLLVLDLLYYSAMNYDICKVYLARWGIQGRWMKQDPRRWGNPARAPRPGQRAPQPQPPPGPLPQAPQAVHTLRGDAHSPPLMTFQSSS\n",
      "ITSCGQQSLNVLAVLFSLLFSAVLSAHFRVCEPYTDHKGRYHFGFHCPRLSDNKTFILCCHHNNTVFKYCCNETEFQAVMQANLTASSEGYMHNNYTALLGVWIYGFFVLMLLVLDLLYYSAMNYDICKVYLARWGIQGRWMKQDPRRWGNPARAPRPGQRAPQPQPPPGPLPQAPQAVHTLRGDAHSPPLMTFQSSS\n",
      "enst_test2\n"
     ]
    }
   ],
   "source": [
    "# show data\n",
    "print(data['input']['ref_seq'])\n",
    "print(data['input']['alt_seq'])\n",
    "print(data['metadata']['transcript_id'])"
   ]
  },
  {
   "cell_type": "code",
   "execution_count": 6,
   "metadata": {},
   "outputs": [],
   "source": [
    "# example function using SingleVariantProteinDataLoader as an input to find variants and their position in the sequence\n",
    "def show_variants(single_variant_protein_dataloader):\n",
    "    # iterate through all \n",
    "    for unit in single_variant_protein_dataloader:\n",
    "        # compare reference with alternative sequence\n",
    "        for i, ref_base in enumerate(unit['input']['ref_seq']):\n",
    "            alt_base = unit['input']['alt_seq'][i]\n",
    "            # print diffs\n",
    "            if ref_base != alt_base:\n",
    "                print(f\"{unit['metadata']['transcript_id']}: pos {i} - {ref_base} > {alt_base}\")"
   ]
  },
  {
   "cell_type": "code",
   "execution_count": 7,
   "metadata": {},
   "outputs": [
    {
     "name": "stdout",
     "output_type": "stream",
     "text": [
      "Transcript support level not in gtf.Skipping the associated filters.\n",
      "Transcript support level not in gtf.Skipping the associated filters.\n"
     ]
    }
   ],
   "source": [
    "# initialize\n",
    "svd = SingleVariantProteinDataLoader(gtf_file, fasta_file, vcf_file)"
   ]
  },
  {
   "cell_type": "code",
   "execution_count": 8,
   "metadata": {},
   "outputs": [
    {
     "name": "stdout",
     "output_type": "stream",
     "text": [
      "enst_test2: pos 0 - M > I\n",
      "enst_test2: pos 0 - M > T\n",
      "enst_test2: pos 0 - M > L\n"
     ]
    }
   ],
   "source": [
    "show_variants(svd)"
   ]
  },
  {
   "cell_type": "code",
   "execution_count": null,
   "metadata": {},
   "outputs": [],
   "source": []
  }
 ],
 "metadata": {
  "kernelspec": {
   "display_name": "Python [conda env:anaconda-nonchevFromBrechtmann]",
   "language": "python",
   "name": "conda-env-anaconda-nonchevFromBrechtmann-py"
  },
  "language_info": {
   "codemirror_mode": {
    "name": "ipython",
    "version": 3
   },
   "file_extension": ".py",
   "mimetype": "text/x-python",
   "name": "python",
   "nbconvert_exporter": "python",
   "pygments_lexer": "ipython3",
   "version": "3.6.10"
  }
 },
 "nbformat": 4,
 "nbformat_minor": 4
}
