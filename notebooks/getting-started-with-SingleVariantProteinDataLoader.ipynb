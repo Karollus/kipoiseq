{
 "cells": [
  {
   "cell_type": "code",
   "execution_count": 1,
   "metadata": {},
   "outputs": [],
   "source": [
    "from kipoiseq.dataloaders.extractor import SingleVariantProteinDataLoader"
   ]
  },
  {
   "cell_type": "code",
   "execution_count": 2,
   "metadata": {},
   "outputs": [],
   "source": [
    "# test files\n",
    "gtf_file = '../tests/data/sample_1_protein.gtf'\n",
    "fasta_file = '../tests/data/demo_dna_seq.fa'\n",
    "vcf_file = '../tests/data/singleVar_vcf_enst_test2.vcf.gz'"
   ]
  },
  {
   "cell_type": "code",
   "execution_count": 3,
   "metadata": {},
   "outputs": [
    {
     "name": "stdout",
     "output_type": "stream",
     "text": [
      "Transcript support level not in gtf.Skipping the associated filters.\n",
      "Transcript support level not in gtf.Skipping the associated filters.\n"
     ]
    }
   ],
   "source": [
    "# initialize\n",
    "svd = SingleVariantProteinDataLoader(gtf_file, fasta_file, vcf_file)"
   ]
  },
  {
   "cell_type": "code",
   "execution_count": 4,
   "metadata": {},
   "outputs": [],
   "source": [
    "# get for first transcript_id with variants dictionary - ref_seq, alt_seq, metadata\n",
    "data = next(svd)"
   ]
  },
  {
   "cell_type": "code",
   "execution_count": 5,
   "metadata": {},
   "outputs": [
    {
     "name": "stdout",
     "output_type": "stream",
     "text": [
      "MTSCGQQSLNVLAVLFSLLFSAVLSAHFRVCEPYTDHKGRYHFGFHCPRLSDNKTFILCCHHNNTVFKYCCNETEFQAVMQANLTASSEGYMHNNYTALLGVWIYGFFVLMLLVLDLLYYSAMNYDICKVYLARWGIQGRWMKQDPRRWGNPARAPRPGQRAPQPQPPPGPLPQAPQAVHTLRGDAHSPPLMTFQSSS\n",
      "ITSCGQQSLNVLAVLFSLLFSAVLSAHFRVCEPYTDHKGRYHFGFHCPRLSDNKTFILCCHHNNTVFKYCCNETEFQAVMQANLTASSEGYMHNNYTALLGVWIYGFFVLMLLVLDLLYYSAMNYDICKVYLARWGIQGRWMKQDPRRWGNPARAPRPGQRAPQPQPPPGPLPQAPQAVHTLRGDAHSPPLMTFQSSS\n",
      "1    enst_test2\n",
      "Name: transcript_id, dtype: object\n"
     ]
    }
   ],
   "source": [
    "# show data\n",
    "print(data['input']['ref_seq'])\n",
    "print(data['input']['alt_seq'])\n",
    "print(data['metadata']['transcript_id'])"
   ]
  },
  {
   "cell_type": "code",
   "execution_count": null,
   "metadata": {},
   "outputs": [],
   "source": []
  }
 ],
 "metadata": {
  "kernelspec": {
   "display_name": "Python [conda env:anaconda-nonchevFromBrechtmann]",
   "language": "python",
   "name": "conda-env-anaconda-nonchevFromBrechtmann-py"
  },
  "language_info": {
   "codemirror_mode": {
    "name": "ipython",
    "version": 3
   },
   "file_extension": ".py",
   "mimetype": "text/x-python",
   "name": "python",
   "nbconvert_exporter": "python",
   "pygments_lexer": "ipython3",
   "version": "3.6.10"
  }
 },
 "nbformat": 4,
 "nbformat_minor": 4
}
